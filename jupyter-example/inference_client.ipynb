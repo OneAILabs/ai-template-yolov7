{
 "cells": [
  {
   "cell_type": "code",
   "execution_count": null,
   "metadata": {},
   "outputs": [],
   "source": [
    "import numpy as np\n",
    "import base64\n",
    "import io\n",
    "import os\n",
    "import requests\n",
    "import json\n",
    "from PIL import Image as Images,ImageFont,ImageDraw\n",
    "from IPython.display import Image, clear_output, display\n",
    "import cv2\n",
    "%matplotlib inline\n",
    "from matplotlib import pyplot as plt\n",
    "import time\n",
    "from os import listdir\n",
    "from os.path import isfile, isdir, join"
   ]
  },
  {
   "cell_type": "code",
   "execution_count": null,
   "metadata": {},
   "outputs": [],
   "source": [
    "\n",
    "#Setup image path and inference server\n",
    "datasetPath = \"./test/\"\n",
    "resultPath = \"./result/\"\n",
    "inferenceHost = \"yolov7:9999\"\n",
    "threshold = 0.5"
   ]
  },
  {
   "cell_type": "code",
   "execution_count": null,
   "metadata": {},
   "outputs": [],
   "source": [
    "#Font setup\n",
    "fontpath = \"/jupyter-example/cht.otf\"\n",
    "color = (255, 0, 0)\n",
    "font = ImageFont.truetype(fontpath, 20)"
   ]
  },
  {
   "cell_type": "code",
   "execution_count": null,
   "metadata": {},
   "outputs": [],
   "source": [
    "protocol = \"http://\"\n",
    "detect_api = \"/yolov7/detect\"\n",
    "test_api = \"/yolov7\"\n",
    "full_detect_api = protocol+inferenceHost+detect_api\n",
    "full_test_api = protocol+inferenceHost+test_api\n",
    "print(\"detect_api:{}\".format(full_detect_api))\n",
    "print(\"test_api:{}\".format(full_test_api))"
   ]
  },
  {
   "cell_type": "code",
   "execution_count": null,
   "metadata": {},
   "outputs": [],
   "source": [
    "def arrayShow(imageArray):\n",
    "    resized = cv2.resize(imageArray, (500, 333), interpolation=cv2.INTER_CUBIC)\n",
    "    ret, png = cv2.imencode('.png', resized)\n",
    "    return Image(data=png)"
   ]
  },
  {
   "cell_type": "code",
   "execution_count": null,
   "metadata": {},
   "outputs": [],
   "source": [
    "# 確認推論服務是否有啟動\n",
    "try:\n",
    "    res = requests.get(full_test_api)\n",
    "    print(\"{}\".format(res.content))\n",
    "except requests.exceptions.RequestException as e:\n",
    "    print(e)"
   ]
  },
  {
   "cell_type": "code",
   "execution_count": null,
   "metadata": {},
   "outputs": [],
   "source": [
    "# 取得所有檔案與子目錄名稱\n",
    "if not os.path.exists(resultPath):\n",
    "    os.makedirs(resultPath)\n",
    "files = listdir(datasetPath)\n",
    "\n",
    "for f in files:\n",
    "    fullpath = join(datasetPath, f)\n",
    "    if isfile(fullpath):\n",
    "        output = join(resultPath, f)\n",
    "        with open(fullpath, \"rb\") as inputFile:\n",
    "            data = inputFile.read()\n",
    "        body = {\"image\": base64.b64encode(data).decode(\"utf-8\"), \"thresh\": threshold}\n",
    "        res = requests.post(full_detect_api, json=body)\n",
    "        detected = res.json()\n",
    "        if(detected.get('status') == 'error'):\n",
    "            print(\"{}\".format(detected))\n",
    "            break\n",
    "        objects_json = json.loads(detected.get('results'))\n",
    "        oriImage = cv2.imread(fullpath)\n",
    "        img_pil = Images.fromarray(cv2.cvtColor(oriImage, cv2.COLOR_BGR2RGB))\n",
    "        draw = ImageDraw.Draw(img_pil)\n",
    "        for obj in objects_json:\n",
    "            xmin = (obj['points'][0])\n",
    "            ymin = (obj['points'][1])\n",
    "            xmax = (obj['points'][2])\n",
    "            ymax = (obj['points'][3])\n",
    "            label = (obj['label'])\n",
    "            confidence = obj['confidence']\n",
    "            pos = tuple((int(xmin),int(ymin)))\n",
    "            box =  (int(xmin), int(ymax)), (int(xmax), int(ymin))\n",
    "            draw.text(pos, label, font = font, fill = color)\n",
    "            draw.rectangle(box,outline=\"green\")\n",
    "        cv_img = cv2.cvtColor(np.asarray(img_pil),cv2.COLOR_RGB2BGR)\n",
    "        cv2.imwrite(output, cv_img) \n",
    "        img = arrayShow(cv_img)\n",
    "        clear_output(wait=True)\n",
    "        display(img)\n",
    "        time.sleep(1)"
   ]
  }
 ],
 "metadata": {
  "kernelspec": {
   "display_name": "Python 3.6.13 ('my3.6')",
   "language": "python",
   "name": "python3"
  },
  "language_info": {
   "name": "python",
   "version": "3.6.13"
  },
  "orig_nbformat": 4,
  "vscode": {
   "interpreter": {
    "hash": "d88deac7f91d95716b01ab207faae2e5e0ef8e6b936faafa81ce24d94d6e8810"
   }
  }
 },
 "nbformat": 4,
 "nbformat_minor": 2
}
